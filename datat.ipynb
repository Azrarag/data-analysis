{
  "nbformat": 4,
  "nbformat_minor": 0,
  "metadata": {
    "kernelspec": {
      "display_name": "Python 3",
      "language": "python",
      "name": "python3"
    },
    "language_info": {
      "codemirror_mode": {
        "name": "ipython",
        "version": 3
      },
      "file_extension": ".py",
      "mimetype": "text/x-python",
      "name": "python",
      "nbconvert_exporter": "python",
      "pygments_lexer": "ipython3",
      "version": "3.8.5"
    },
    "colab": {
      "name": "datat.ipynb",
      "provenance": [],
      "include_colab_link": true
    }
  },
  "cells": [
    {
      "cell_type": "markdown",
      "metadata": {
        "id": "view-in-github",
        "colab_type": "text"
      },
      "source": [
        "<a href=\"https://colab.research.google.com/github/mohamed0998/data-analysis/blob/main/datat.ipynb\" target=\"_parent\"><img src=\"https://colab.research.google.com/assets/colab-badge.svg\" alt=\"Open In Colab\"/></a>"
      ]
    },
    {
      "cell_type": "code",
      "metadata": {
        "id": "sIAqbRPe4Pit"
      },
      "source": [
        "#importer les packages\n",
        "import os\n",
        "import pandas as pd \n",
        "import matplotlib.pyplot as plt\n",
        "import seaborn as sns\n"
      ],
      "execution_count": null,
      "outputs": []
    },
    {
      "cell_type": "code",
      "metadata": {
        "id": "oUc7ZsIU4Pi1",
        "outputId": "8618c1fa-ca18-4e64-fc50-cb07bbe172b0"
      },
      "source": [
        "files=[file for file in os.listdir(r'C:\\Users\\admin\\Desktop\\data_analysis\\Sales_Data')]\n",
        "for file in files :\n",
        "    print(file)"
      ],
      "execution_count": null,
      "outputs": [
        {
          "name": "stdout",
          "output_type": "stream",
          "text": [
            "Sales_April_2019.csv\n",
            "Sales_August_2019.csv\n",
            "Sales_December_2019.csv\n",
            "Sales_February_2019.csv\n",
            "Sales_January_2019.csv\n",
            "Sales_July_2019.csv\n",
            "Sales_June_2019.csv\n",
            "Sales_March_2019.csv\n",
            "Sales_May_2019.csv\n",
            "Sales_November_2019.csv\n",
            "Sales_October_2019.csv\n",
            "Sales_September_2019.csv\n"
          ]
        }
      ]
    },
    {
      "cell_type": "code",
      "metadata": {
        "id": "YzhrfRME4Pi3",
        "outputId": "05259229-f77c-4437-9674-dd87b48559e7"
      },
      "source": [
        "path= r'C:\\Users\\admin\\Desktop\\data_analysis\\Sales_Data'\n",
        "#créer une base de données\n",
        "all_data= pd.DataFrame()\n",
        "\n",
        "for file in files :\n",
        "    current_data= pd.read_csv(path+\"/\"+file)\n",
        "    all_data= pd.concat([all_data,current_data])\n",
        "print(all_data)\n",
        "                            "
      ],
      "execution_count": null,
      "outputs": [
        {
          "name": "stdout",
          "output_type": "stream",
          "text": [
            "      Order ID                     Product Quantity Ordered Price Each  \\\n",
            "0       176558        USB-C Charging Cable                2      11.95   \n",
            "1          NaN                         NaN              NaN        NaN   \n",
            "2       176559  Bose SoundSport Headphones                1      99.99   \n",
            "3       176560                Google Phone                1        600   \n",
            "4       176560            Wired Headphones                1      11.99   \n",
            "...        ...                         ...              ...        ...   \n",
            "11681   259353      AAA Batteries (4-pack)                3       2.99   \n",
            "11682   259354                      iPhone                1        700   \n",
            "11683   259355                      iPhone                1        700   \n",
            "11684   259356      34in Ultrawide Monitor                1     379.99   \n",
            "11685   259357        USB-C Charging Cable                1      11.95   \n",
            "\n",
            "           Order Date                         Purchase Address  \n",
            "0      04/19/19 08:46             917 1st St, Dallas, TX 75001  \n",
            "1                 NaN                                      NaN  \n",
            "2      04/07/19 22:30        682 Chestnut St, Boston, MA 02215  \n",
            "3      04/12/19 14:38     669 Spruce St, Los Angeles, CA 90001  \n",
            "4      04/12/19 14:38     669 Spruce St, Los Angeles, CA 90001  \n",
            "...               ...                                      ...  \n",
            "11681  09/17/19 20:56   840 Highland St, Los Angeles, CA 90001  \n",
            "11682  09/01/19 16:00  216 Dogwood St, San Francisco, CA 94016  \n",
            "11683  09/23/19 07:39     220 12th St, San Francisco, CA 94016  \n",
            "11684  09/19/19 17:30   511 Forest St, San Francisco, CA 94016  \n",
            "11685  09/30/19 00:18   250 Meadow St, San Francisco, CA 94016  \n",
            "\n",
            "[186850 rows x 6 columns]\n"
          ]
        }
      ]
    },
    {
      "cell_type": "code",
      "metadata": {
        "id": "3dPKXkNR4Pi5",
        "outputId": "b092ce23-f082-4a85-dc83-abd14bb8b45b"
      },
      "source": [
        "data_janvier=pd.read_csv(path+\"/\"+\"Sales_January_2019.csv\")\n",
        "data_janvier"
      ],
      "execution_count": null,
      "outputs": [
        {
          "data": {
            "text/html": [
              "<div>\n",
              "<style scoped>\n",
              "    .dataframe tbody tr th:only-of-type {\n",
              "        vertical-align: middle;\n",
              "    }\n",
              "\n",
              "    .dataframe tbody tr th {\n",
              "        vertical-align: top;\n",
              "    }\n",
              "\n",
              "    .dataframe thead th {\n",
              "        text-align: right;\n",
              "    }\n",
              "</style>\n",
              "<table border=\"1\" class=\"dataframe\">\n",
              "  <thead>\n",
              "    <tr style=\"text-align: right;\">\n",
              "      <th></th>\n",
              "      <th>Order ID</th>\n",
              "      <th>Product</th>\n",
              "      <th>Quantity Ordered</th>\n",
              "      <th>Price Each</th>\n",
              "      <th>Order Date</th>\n",
              "      <th>Purchase Address</th>\n",
              "    </tr>\n",
              "  </thead>\n",
              "  <tbody>\n",
              "    <tr>\n",
              "      <th>0</th>\n",
              "      <td>141234</td>\n",
              "      <td>iPhone</td>\n",
              "      <td>1</td>\n",
              "      <td>700</td>\n",
              "      <td>01/22/19 21:25</td>\n",
              "      <td>944 Walnut St, Boston, MA 02215</td>\n",
              "    </tr>\n",
              "    <tr>\n",
              "      <th>1</th>\n",
              "      <td>141235</td>\n",
              "      <td>Lightning Charging Cable</td>\n",
              "      <td>1</td>\n",
              "      <td>14.95</td>\n",
              "      <td>01/28/19 14:15</td>\n",
              "      <td>185 Maple St, Portland, OR 97035</td>\n",
              "    </tr>\n",
              "    <tr>\n",
              "      <th>2</th>\n",
              "      <td>141236</td>\n",
              "      <td>Wired Headphones</td>\n",
              "      <td>2</td>\n",
              "      <td>11.99</td>\n",
              "      <td>01/17/19 13:33</td>\n",
              "      <td>538 Adams St, San Francisco, CA 94016</td>\n",
              "    </tr>\n",
              "    <tr>\n",
              "      <th>3</th>\n",
              "      <td>141237</td>\n",
              "      <td>27in FHD Monitor</td>\n",
              "      <td>1</td>\n",
              "      <td>149.99</td>\n",
              "      <td>01/05/19 20:33</td>\n",
              "      <td>738 10th St, Los Angeles, CA 90001</td>\n",
              "    </tr>\n",
              "    <tr>\n",
              "      <th>4</th>\n",
              "      <td>141238</td>\n",
              "      <td>Wired Headphones</td>\n",
              "      <td>1</td>\n",
              "      <td>11.99</td>\n",
              "      <td>01/25/19 11:59</td>\n",
              "      <td>387 10th St, Austin, TX 73301</td>\n",
              "    </tr>\n",
              "    <tr>\n",
              "      <th>...</th>\n",
              "      <td>...</td>\n",
              "      <td>...</td>\n",
              "      <td>...</td>\n",
              "      <td>...</td>\n",
              "      <td>...</td>\n",
              "      <td>...</td>\n",
              "    </tr>\n",
              "    <tr>\n",
              "      <th>9718</th>\n",
              "      <td>150497</td>\n",
              "      <td>20in Monitor</td>\n",
              "      <td>1</td>\n",
              "      <td>109.99</td>\n",
              "      <td>01/26/19 19:09</td>\n",
              "      <td>95 8th St, Dallas, TX 75001</td>\n",
              "    </tr>\n",
              "    <tr>\n",
              "      <th>9719</th>\n",
              "      <td>150498</td>\n",
              "      <td>27in FHD Monitor</td>\n",
              "      <td>1</td>\n",
              "      <td>149.99</td>\n",
              "      <td>01/10/19 22:58</td>\n",
              "      <td>403 7th St, San Francisco, CA 94016</td>\n",
              "    </tr>\n",
              "    <tr>\n",
              "      <th>9720</th>\n",
              "      <td>150499</td>\n",
              "      <td>ThinkPad Laptop</td>\n",
              "      <td>1</td>\n",
              "      <td>999.99</td>\n",
              "      <td>01/21/19 14:31</td>\n",
              "      <td>214 Main St, Portland, OR 97035</td>\n",
              "    </tr>\n",
              "    <tr>\n",
              "      <th>9721</th>\n",
              "      <td>150500</td>\n",
              "      <td>AAA Batteries (4-pack)</td>\n",
              "      <td>2</td>\n",
              "      <td>2.99</td>\n",
              "      <td>01/15/19 14:21</td>\n",
              "      <td>810 2nd St, Los Angeles, CA 90001</td>\n",
              "    </tr>\n",
              "    <tr>\n",
              "      <th>9722</th>\n",
              "      <td>150501</td>\n",
              "      <td>Google Phone</td>\n",
              "      <td>1</td>\n",
              "      <td>600</td>\n",
              "      <td>01/13/19 16:43</td>\n",
              "      <td>428 Cedar St, Boston, MA 02215</td>\n",
              "    </tr>\n",
              "  </tbody>\n",
              "</table>\n",
              "<p>9723 rows × 6 columns</p>\n",
              "</div>"
            ],
            "text/plain": [
              "     Order ID                   Product Quantity Ordered Price Each  \\\n",
              "0      141234                    iPhone                1        700   \n",
              "1      141235  Lightning Charging Cable                1      14.95   \n",
              "2      141236          Wired Headphones                2      11.99   \n",
              "3      141237          27in FHD Monitor                1     149.99   \n",
              "4      141238          Wired Headphones                1      11.99   \n",
              "...       ...                       ...              ...        ...   \n",
              "9718   150497              20in Monitor                1     109.99   \n",
              "9719   150498          27in FHD Monitor                1     149.99   \n",
              "9720   150499           ThinkPad Laptop                1     999.99   \n",
              "9721   150500    AAA Batteries (4-pack)                2       2.99   \n",
              "9722   150501              Google Phone                1        600   \n",
              "\n",
              "          Order Date                       Purchase Address  \n",
              "0     01/22/19 21:25        944 Walnut St, Boston, MA 02215  \n",
              "1     01/28/19 14:15       185 Maple St, Portland, OR 97035  \n",
              "2     01/17/19 13:33  538 Adams St, San Francisco, CA 94016  \n",
              "3     01/05/19 20:33     738 10th St, Los Angeles, CA 90001  \n",
              "4     01/25/19 11:59          387 10th St, Austin, TX 73301  \n",
              "...              ...                                    ...  \n",
              "9718  01/26/19 19:09            95 8th St, Dallas, TX 75001  \n",
              "9719  01/10/19 22:58    403 7th St, San Francisco, CA 94016  \n",
              "9720  01/21/19 14:31        214 Main St, Portland, OR 97035  \n",
              "9721  01/15/19 14:21      810 2nd St, Los Angeles, CA 90001  \n",
              "9722  01/13/19 16:43         428 Cedar St, Boston, MA 02215  \n",
              "\n",
              "[9723 rows x 6 columns]"
            ]
          },
          "execution_count": 23,
          "metadata": {},
          "output_type": "execute_result"
        }
      ]
    },
    {
      "cell_type": "code",
      "metadata": {
        "id": "cIcR1WAw4Pi6"
      },
      "source": [
        "all_data.to_csv(path+'/all_data.csv',index=False)"
      ],
      "execution_count": null,
      "outputs": []
    },
    {
      "cell_type": "code",
      "metadata": {
        "id": "RYAQwLkX4Pi6",
        "outputId": "2ff689bd-c068-41f1-b51f-88272db2ba6a"
      },
      "source": [
        "all_data.dtypes"
      ],
      "execution_count": null,
      "outputs": [
        {
          "data": {
            "text/plain": [
              "Order ID            object\n",
              "Product             object\n",
              "Quantity Ordered    object\n",
              "Price Each          object\n",
              "Order Date          object\n",
              "Purchase Address    object\n",
              "dtype: object"
            ]
          },
          "execution_count": 30,
          "metadata": {},
          "output_type": "execute_result"
        }
      ]
    },
    {
      "cell_type": "code",
      "metadata": {
        "id": "BuwAUKbU4Pi8",
        "outputId": "45f1d786-4fc9-4585-cd02-072da0d06fe9"
      },
      "source": [
        "all_data.head()"
      ],
      "execution_count": null,
      "outputs": [
        {
          "data": {
            "text/html": [
              "<div>\n",
              "<style scoped>\n",
              "    .dataframe tbody tr th:only-of-type {\n",
              "        vertical-align: middle;\n",
              "    }\n",
              "\n",
              "    .dataframe tbody tr th {\n",
              "        vertical-align: top;\n",
              "    }\n",
              "\n",
              "    .dataframe thead th {\n",
              "        text-align: right;\n",
              "    }\n",
              "</style>\n",
              "<table border=\"1\" class=\"dataframe\">\n",
              "  <thead>\n",
              "    <tr style=\"text-align: right;\">\n",
              "      <th></th>\n",
              "      <th>Order ID</th>\n",
              "      <th>Product</th>\n",
              "      <th>Quantity Ordered</th>\n",
              "      <th>Price Each</th>\n",
              "      <th>Order Date</th>\n",
              "      <th>Purchase Address</th>\n",
              "    </tr>\n",
              "  </thead>\n",
              "  <tbody>\n",
              "    <tr>\n",
              "      <th>0</th>\n",
              "      <td>176558</td>\n",
              "      <td>USB-C Charging Cable</td>\n",
              "      <td>2</td>\n",
              "      <td>11.95</td>\n",
              "      <td>04/19/19 08:46</td>\n",
              "      <td>917 1st St, Dallas, TX 75001</td>\n",
              "    </tr>\n",
              "    <tr>\n",
              "      <th>1</th>\n",
              "      <td>NaN</td>\n",
              "      <td>NaN</td>\n",
              "      <td>NaN</td>\n",
              "      <td>NaN</td>\n",
              "      <td>NaN</td>\n",
              "      <td>NaN</td>\n",
              "    </tr>\n",
              "    <tr>\n",
              "      <th>2</th>\n",
              "      <td>176559</td>\n",
              "      <td>Bose SoundSport Headphones</td>\n",
              "      <td>1</td>\n",
              "      <td>99.99</td>\n",
              "      <td>04/07/19 22:30</td>\n",
              "      <td>682 Chestnut St, Boston, MA 02215</td>\n",
              "    </tr>\n",
              "    <tr>\n",
              "      <th>3</th>\n",
              "      <td>176560</td>\n",
              "      <td>Google Phone</td>\n",
              "      <td>1</td>\n",
              "      <td>600</td>\n",
              "      <td>04/12/19 14:38</td>\n",
              "      <td>669 Spruce St, Los Angeles, CA 90001</td>\n",
              "    </tr>\n",
              "    <tr>\n",
              "      <th>4</th>\n",
              "      <td>176560</td>\n",
              "      <td>Wired Headphones</td>\n",
              "      <td>1</td>\n",
              "      <td>11.99</td>\n",
              "      <td>04/12/19 14:38</td>\n",
              "      <td>669 Spruce St, Los Angeles, CA 90001</td>\n",
              "    </tr>\n",
              "  </tbody>\n",
              "</table>\n",
              "</div>"
            ],
            "text/plain": [
              "  Order ID                     Product Quantity Ordered Price Each  \\\n",
              "0   176558        USB-C Charging Cable                2      11.95   \n",
              "1      NaN                         NaN              NaN        NaN   \n",
              "2   176559  Bose SoundSport Headphones                1      99.99   \n",
              "3   176560                Google Phone                1        600   \n",
              "4   176560            Wired Headphones                1      11.99   \n",
              "\n",
              "       Order Date                      Purchase Address  \n",
              "0  04/19/19 08:46          917 1st St, Dallas, TX 75001  \n",
              "1             NaN                                   NaN  \n",
              "2  04/07/19 22:30     682 Chestnut St, Boston, MA 02215  \n",
              "3  04/12/19 14:38  669 Spruce St, Los Angeles, CA 90001  \n",
              "4  04/12/19 14:38  669 Spruce St, Los Angeles, CA 90001  "
            ]
          },
          "execution_count": 31,
          "metadata": {},
          "output_type": "execute_result"
        }
      ]
    },
    {
      "cell_type": "code",
      "metadata": {
        "id": "oA-tErrb4Pi-",
        "outputId": "0fbc2a97-1f57-4a2c-f828-5d58fc01c9f9"
      },
      "source": [
        "all_data.isnull().sum()"
      ],
      "execution_count": null,
      "outputs": [
        {
          "data": {
            "text/plain": [
              "Order ID            545\n",
              "Product             545\n",
              "Quantity Ordered    545\n",
              "Price Each          545\n",
              "Order Date          545\n",
              "Purchase Address    545\n",
              "dtype: int64"
            ]
          },
          "execution_count": 32,
          "metadata": {},
          "output_type": "execute_result"
        }
      ]
    },
    {
      "cell_type": "code",
      "metadata": {
        "id": "dmN7f5_W4PjA"
      },
      "source": [
        "all_data= all_data.dropna(how=\"all\")"
      ],
      "execution_count": null,
      "outputs": []
    },
    {
      "cell_type": "code",
      "metadata": {
        "id": "yOolaDR24PjD",
        "outputId": "79ea1ecf-dd6f-46d3-b5cd-c0a76f76c9b2"
      },
      "source": [
        "all_data.shape"
      ],
      "execution_count": null,
      "outputs": [
        {
          "data": {
            "text/plain": [
              "(186305, 6)"
            ]
          },
          "execution_count": 36,
          "metadata": {},
          "output_type": "execute_result"
        }
      ]
    },
    {
      "cell_type": "code",
      "metadata": {
        "id": "Q4An5m7t4PjF",
        "outputId": "3fddb007-b22c-486c-bf38-52a8f0f417fb"
      },
      "source": [
        "all_data.head()"
      ],
      "execution_count": null,
      "outputs": [
        {
          "data": {
            "text/html": [
              "<div>\n",
              "<style scoped>\n",
              "    .dataframe tbody tr th:only-of-type {\n",
              "        vertical-align: middle;\n",
              "    }\n",
              "\n",
              "    .dataframe tbody tr th {\n",
              "        vertical-align: top;\n",
              "    }\n",
              "\n",
              "    .dataframe thead th {\n",
              "        text-align: right;\n",
              "    }\n",
              "</style>\n",
              "<table border=\"1\" class=\"dataframe\">\n",
              "  <thead>\n",
              "    <tr style=\"text-align: right;\">\n",
              "      <th></th>\n",
              "      <th>Order ID</th>\n",
              "      <th>Product</th>\n",
              "      <th>Quantity Ordered</th>\n",
              "      <th>Price Each</th>\n",
              "      <th>Order Date</th>\n",
              "      <th>Purchase Address</th>\n",
              "      <th>Month</th>\n",
              "    </tr>\n",
              "  </thead>\n",
              "  <tbody>\n",
              "    <tr>\n",
              "      <th>0</th>\n",
              "      <td>176558</td>\n",
              "      <td>USB-C Charging Cable</td>\n",
              "      <td>2</td>\n",
              "      <td>11.95</td>\n",
              "      <td>04/19/19 08:46</td>\n",
              "      <td>917 1st St, Dallas, TX 75001</td>\n",
              "      <td>04</td>\n",
              "    </tr>\n",
              "    <tr>\n",
              "      <th>2</th>\n",
              "      <td>176559</td>\n",
              "      <td>Bose SoundSport Headphones</td>\n",
              "      <td>1</td>\n",
              "      <td>99.99</td>\n",
              "      <td>04/07/19 22:30</td>\n",
              "      <td>682 Chestnut St, Boston, MA 02215</td>\n",
              "      <td>04</td>\n",
              "    </tr>\n",
              "    <tr>\n",
              "      <th>3</th>\n",
              "      <td>176560</td>\n",
              "      <td>Google Phone</td>\n",
              "      <td>1</td>\n",
              "      <td>600</td>\n",
              "      <td>04/12/19 14:38</td>\n",
              "      <td>669 Spruce St, Los Angeles, CA 90001</td>\n",
              "      <td>04</td>\n",
              "    </tr>\n",
              "    <tr>\n",
              "      <th>4</th>\n",
              "      <td>176560</td>\n",
              "      <td>Wired Headphones</td>\n",
              "      <td>1</td>\n",
              "      <td>11.99</td>\n",
              "      <td>04/12/19 14:38</td>\n",
              "      <td>669 Spruce St, Los Angeles, CA 90001</td>\n",
              "      <td>04</td>\n",
              "    </tr>\n",
              "    <tr>\n",
              "      <th>5</th>\n",
              "      <td>176561</td>\n",
              "      <td>Wired Headphones</td>\n",
              "      <td>1</td>\n",
              "      <td>11.99</td>\n",
              "      <td>04/30/19 09:27</td>\n",
              "      <td>333 8th St, Los Angeles, CA 90001</td>\n",
              "      <td>04</td>\n",
              "    </tr>\n",
              "  </tbody>\n",
              "</table>\n",
              "</div>"
            ],
            "text/plain": [
              "  Order ID                     Product Quantity Ordered Price Each  \\\n",
              "0   176558        USB-C Charging Cable                2      11.95   \n",
              "2   176559  Bose SoundSport Headphones                1      99.99   \n",
              "3   176560                Google Phone                1        600   \n",
              "4   176560            Wired Headphones                1      11.99   \n",
              "5   176561            Wired Headphones                1      11.99   \n",
              "\n",
              "       Order Date                      Purchase Address Month  \n",
              "0  04/19/19 08:46          917 1st St, Dallas, TX 75001    04  \n",
              "2  04/07/19 22:30     682 Chestnut St, Boston, MA 02215    04  \n",
              "3  04/12/19 14:38  669 Spruce St, Los Angeles, CA 90001    04  \n",
              "4  04/12/19 14:38  669 Spruce St, Los Angeles, CA 90001    04  \n",
              "5  04/30/19 09:27     333 8th St, Los Angeles, CA 90001    04  "
            ]
          },
          "execution_count": 43,
          "metadata": {},
          "output_type": "execute_result"
        }
      ]
    },
    {
      "cell_type": "markdown",
      "metadata": {
        "id": "RLdXW5U54PjG"
      },
      "source": [
        "# qu'il est le mois durant lequel on a réalisé le meilleur chiffre d'affaire?"
      ]
    },
    {
      "cell_type": "code",
      "metadata": {
        "id": "Pg100RhT4PjL",
        "outputId": "123aea19-8829-4e47-f279-f580e9465d0c"
      },
      "source": [
        "def month(x):\n",
        "    return x.split('/')[0]\n",
        "month('10/24/2022 12:38')"
      ],
      "execution_count": null,
      "outputs": [
        {
          "data": {
            "text/plain": [
              "'10'"
            ]
          },
          "execution_count": 39,
          "metadata": {},
          "output_type": "execute_result"
        }
      ]
    },
    {
      "cell_type": "code",
      "metadata": {
        "id": "SfODuUN24PjN",
        "outputId": "87b509f3-31c4-47be-d760-945b10a37c86"
      },
      "source": [
        "all_data['Month'] = all_data['Order Date'].apply(month)"
      ],
      "execution_count": null,
      "outputs": [
        {
          "name": "stderr",
          "output_type": "stream",
          "text": [
            "<ipython-input-41-2475b1d21ca5>:1: SettingWithCopyWarning: \n",
            "A value is trying to be set on a copy of a slice from a DataFrame.\n",
            "Try using .loc[row_indexer,col_indexer] = value instead\n",
            "\n",
            "See the caveats in the documentation: https://pandas.pydata.org/pandas-docs/stable/user_guide/indexing.html#returning-a-view-versus-a-copy\n",
            "  all_data['Month'] = all_data['Order Date'].apply(month)\n"
          ]
        }
      ]
    },
    {
      "cell_type": "code",
      "metadata": {
        "id": "ZH5Z671T4PjO",
        "outputId": "164e3030-2973-4f1b-e086-5d708af143b1"
      },
      "source": [
        "all_data"
      ],
      "execution_count": null,
      "outputs": [
        {
          "data": {
            "text/html": [
              "<div>\n",
              "<style scoped>\n",
              "    .dataframe tbody tr th:only-of-type {\n",
              "        vertical-align: middle;\n",
              "    }\n",
              "\n",
              "    .dataframe tbody tr th {\n",
              "        vertical-align: top;\n",
              "    }\n",
              "\n",
              "    .dataframe thead th {\n",
              "        text-align: right;\n",
              "    }\n",
              "</style>\n",
              "<table border=\"1\" class=\"dataframe\">\n",
              "  <thead>\n",
              "    <tr style=\"text-align: right;\">\n",
              "      <th></th>\n",
              "      <th>Order ID</th>\n",
              "      <th>Product</th>\n",
              "      <th>Quantity Ordered</th>\n",
              "      <th>Price Each</th>\n",
              "      <th>Order Date</th>\n",
              "      <th>Purchase Address</th>\n",
              "      <th>Month</th>\n",
              "    </tr>\n",
              "  </thead>\n",
              "  <tbody>\n",
              "    <tr>\n",
              "      <th>0</th>\n",
              "      <td>176558</td>\n",
              "      <td>USB-C Charging Cable</td>\n",
              "      <td>2</td>\n",
              "      <td>11.95</td>\n",
              "      <td>04/19/19 08:46</td>\n",
              "      <td>917 1st St, Dallas, TX 75001</td>\n",
              "      <td>04</td>\n",
              "    </tr>\n",
              "    <tr>\n",
              "      <th>2</th>\n",
              "      <td>176559</td>\n",
              "      <td>Bose SoundSport Headphones</td>\n",
              "      <td>1</td>\n",
              "      <td>99.99</td>\n",
              "      <td>04/07/19 22:30</td>\n",
              "      <td>682 Chestnut St, Boston, MA 02215</td>\n",
              "      <td>04</td>\n",
              "    </tr>\n",
              "    <tr>\n",
              "      <th>3</th>\n",
              "      <td>176560</td>\n",
              "      <td>Google Phone</td>\n",
              "      <td>1</td>\n",
              "      <td>600</td>\n",
              "      <td>04/12/19 14:38</td>\n",
              "      <td>669 Spruce St, Los Angeles, CA 90001</td>\n",
              "      <td>04</td>\n",
              "    </tr>\n",
              "    <tr>\n",
              "      <th>4</th>\n",
              "      <td>176560</td>\n",
              "      <td>Wired Headphones</td>\n",
              "      <td>1</td>\n",
              "      <td>11.99</td>\n",
              "      <td>04/12/19 14:38</td>\n",
              "      <td>669 Spruce St, Los Angeles, CA 90001</td>\n",
              "      <td>04</td>\n",
              "    </tr>\n",
              "    <tr>\n",
              "      <th>5</th>\n",
              "      <td>176561</td>\n",
              "      <td>Wired Headphones</td>\n",
              "      <td>1</td>\n",
              "      <td>11.99</td>\n",
              "      <td>04/30/19 09:27</td>\n",
              "      <td>333 8th St, Los Angeles, CA 90001</td>\n",
              "      <td>04</td>\n",
              "    </tr>\n",
              "    <tr>\n",
              "      <th>...</th>\n",
              "      <td>...</td>\n",
              "      <td>...</td>\n",
              "      <td>...</td>\n",
              "      <td>...</td>\n",
              "      <td>...</td>\n",
              "      <td>...</td>\n",
              "      <td>...</td>\n",
              "    </tr>\n",
              "    <tr>\n",
              "      <th>11681</th>\n",
              "      <td>259353</td>\n",
              "      <td>AAA Batteries (4-pack)</td>\n",
              "      <td>3</td>\n",
              "      <td>2.99</td>\n",
              "      <td>09/17/19 20:56</td>\n",
              "      <td>840 Highland St, Los Angeles, CA 90001</td>\n",
              "      <td>09</td>\n",
              "    </tr>\n",
              "    <tr>\n",
              "      <th>11682</th>\n",
              "      <td>259354</td>\n",
              "      <td>iPhone</td>\n",
              "      <td>1</td>\n",
              "      <td>700</td>\n",
              "      <td>09/01/19 16:00</td>\n",
              "      <td>216 Dogwood St, San Francisco, CA 94016</td>\n",
              "      <td>09</td>\n",
              "    </tr>\n",
              "    <tr>\n",
              "      <th>11683</th>\n",
              "      <td>259355</td>\n",
              "      <td>iPhone</td>\n",
              "      <td>1</td>\n",
              "      <td>700</td>\n",
              "      <td>09/23/19 07:39</td>\n",
              "      <td>220 12th St, San Francisco, CA 94016</td>\n",
              "      <td>09</td>\n",
              "    </tr>\n",
              "    <tr>\n",
              "      <th>11684</th>\n",
              "      <td>259356</td>\n",
              "      <td>34in Ultrawide Monitor</td>\n",
              "      <td>1</td>\n",
              "      <td>379.99</td>\n",
              "      <td>09/19/19 17:30</td>\n",
              "      <td>511 Forest St, San Francisco, CA 94016</td>\n",
              "      <td>09</td>\n",
              "    </tr>\n",
              "    <tr>\n",
              "      <th>11685</th>\n",
              "      <td>259357</td>\n",
              "      <td>USB-C Charging Cable</td>\n",
              "      <td>1</td>\n",
              "      <td>11.95</td>\n",
              "      <td>09/30/19 00:18</td>\n",
              "      <td>250 Meadow St, San Francisco, CA 94016</td>\n",
              "      <td>09</td>\n",
              "    </tr>\n",
              "  </tbody>\n",
              "</table>\n",
              "<p>186305 rows × 7 columns</p>\n",
              "</div>"
            ],
            "text/plain": [
              "      Order ID                     Product Quantity Ordered Price Each  \\\n",
              "0       176558        USB-C Charging Cable                2      11.95   \n",
              "2       176559  Bose SoundSport Headphones                1      99.99   \n",
              "3       176560                Google Phone                1        600   \n",
              "4       176560            Wired Headphones                1      11.99   \n",
              "5       176561            Wired Headphones                1      11.99   \n",
              "...        ...                         ...              ...        ...   \n",
              "11681   259353      AAA Batteries (4-pack)                3       2.99   \n",
              "11682   259354                      iPhone                1        700   \n",
              "11683   259355                      iPhone                1        700   \n",
              "11684   259356      34in Ultrawide Monitor                1     379.99   \n",
              "11685   259357        USB-C Charging Cable                1      11.95   \n",
              "\n",
              "           Order Date                         Purchase Address Month  \n",
              "0      04/19/19 08:46             917 1st St, Dallas, TX 75001    04  \n",
              "2      04/07/19 22:30        682 Chestnut St, Boston, MA 02215    04  \n",
              "3      04/12/19 14:38     669 Spruce St, Los Angeles, CA 90001    04  \n",
              "4      04/12/19 14:38     669 Spruce St, Los Angeles, CA 90001    04  \n",
              "5      04/30/19 09:27        333 8th St, Los Angeles, CA 90001    04  \n",
              "...               ...                                      ...   ...  \n",
              "11681  09/17/19 20:56   840 Highland St, Los Angeles, CA 90001    09  \n",
              "11682  09/01/19 16:00  216 Dogwood St, San Francisco, CA 94016    09  \n",
              "11683  09/23/19 07:39     220 12th St, San Francisco, CA 94016    09  \n",
              "11684  09/19/19 17:30   511 Forest St, San Francisco, CA 94016    09  \n",
              "11685  09/30/19 00:18   250 Meadow St, San Francisco, CA 94016    09  \n",
              "\n",
              "[186305 rows x 7 columns]"
            ]
          },
          "execution_count": 42,
          "metadata": {},
          "output_type": "execute_result"
        }
      ]
    },
    {
      "cell_type": "code",
      "metadata": {
        "id": "CIpXcu1O4PjP",
        "outputId": "14a62169-c774-47dd-ed1a-ffdb2f335518"
      },
      "source": [
        "all_data['Month'].unique()"
      ],
      "execution_count": null,
      "outputs": [
        {
          "data": {
            "text/plain": [
              "array(['04', '05', 'Order Date', '08', '09', '12', '01', '02', '03', '07',\n",
              "       '06', '11', '10'], dtype=object)"
            ]
          },
          "execution_count": 46,
          "metadata": {},
          "output_type": "execute_result"
        }
      ]
    },
    {
      "cell_type": "code",
      "metadata": {
        "id": "WkHINRDi4PjP"
      },
      "source": [
        "all_data=all_data[all_data['Month']!='Order Date']"
      ],
      "execution_count": null,
      "outputs": []
    },
    {
      "cell_type": "code",
      "metadata": {
        "id": "0PjQLY494PjQ",
        "outputId": "b659c975-0191-461f-86b5-5798c076f65a"
      },
      "source": [
        "all_data['Month'].unique()"
      ],
      "execution_count": null,
      "outputs": [
        {
          "data": {
            "text/plain": [
              "array(['04', '05', '08', '09', '12', '01', '02', '03', '07', '06', '11',\n",
              "       '10'], dtype=object)"
            ]
          },
          "execution_count": 49,
          "metadata": {},
          "output_type": "execute_result"
        }
      ]
    },
    {
      "cell_type": "code",
      "metadata": {
        "id": "kJ7hHPUr4PjR",
        "outputId": "33192273-edca-4618-ee82-b36eb8c4bffa"
      },
      "source": [
        "all_data.dtypes"
      ],
      "execution_count": null,
      "outputs": [
        {
          "data": {
            "text/plain": [
              "Order ID            object\n",
              "Product             object\n",
              "Quantity Ordered    object\n",
              "Price Each          object\n",
              "Order Date          object\n",
              "Purchase Address    object\n",
              "Month               object\n",
              "dtype: object"
            ]
          },
          "execution_count": 50,
          "metadata": {},
          "output_type": "execute_result"
        }
      ]
    },
    {
      "cell_type": "code",
      "metadata": {
        "id": "cTxe4KUb4PjS",
        "outputId": "2887e5d2-6c68-4023-c5cb-919a2ff1ee57"
      },
      "source": [
        "all_data['Month']=all_data['Month'].astype('int')"
      ],
      "execution_count": null,
      "outputs": [
        {
          "name": "stderr",
          "output_type": "stream",
          "text": [
            "<ipython-input-51-b2007adea294>:1: SettingWithCopyWarning: \n",
            "A value is trying to be set on a copy of a slice from a DataFrame.\n",
            "Try using .loc[row_indexer,col_indexer] = value instead\n",
            "\n",
            "See the caveats in the documentation: https://pandas.pydata.org/pandas-docs/stable/user_guide/indexing.html#returning-a-view-versus-a-copy\n",
            "  all_data['Month']=all_data['Month'].astype('int')\n"
          ]
        }
      ]
    },
    {
      "cell_type": "code",
      "metadata": {
        "id": "b8wJahox4PjS",
        "outputId": "7c04fbc2-c292-42fe-e582-c331432c72ef"
      },
      "source": [
        "all_data.dtypes"
      ],
      "execution_count": null,
      "outputs": [
        {
          "data": {
            "text/plain": [
              "Order ID            object\n",
              "Product             object\n",
              "Quantity Ordered    object\n",
              "Price Each          object\n",
              "Order Date          object\n",
              "Purchase Address    object\n",
              "Month                int32\n",
              "dtype: object"
            ]
          },
          "execution_count": 52,
          "metadata": {},
          "output_type": "execute_result"
        }
      ]
    },
    {
      "cell_type": "code",
      "metadata": {
        "id": "0zG8jsag4PjT",
        "outputId": "e34a957b-667a-4791-d5ce-cd7efc45c02f"
      },
      "source": [
        "all_data['Price Each']=all_data['Price Each'].astype('float')"
      ],
      "execution_count": null,
      "outputs": [
        {
          "name": "stderr",
          "output_type": "stream",
          "text": [
            "<ipython-input-54-c5745270a0c3>:1: SettingWithCopyWarning: \n",
            "A value is trying to be set on a copy of a slice from a DataFrame.\n",
            "Try using .loc[row_indexer,col_indexer] = value instead\n",
            "\n",
            "See the caveats in the documentation: https://pandas.pydata.org/pandas-docs/stable/user_guide/indexing.html#returning-a-view-versus-a-copy\n",
            "  all_data['Price Each']=all_data['Price Each'].astype('float')\n"
          ]
        }
      ]
    },
    {
      "cell_type": "code",
      "metadata": {
        "id": "sWrpNw4e4PjU",
        "outputId": "72ef8077-e3aa-4f5e-f782-f855561bd7d8"
      },
      "source": [
        "all_data['Quantity Ordered']=all_data['Quantity Ordered'].astype('int')"
      ],
      "execution_count": null,
      "outputs": [
        {
          "name": "stderr",
          "output_type": "stream",
          "text": [
            "<ipython-input-56-a7724996b834>:1: SettingWithCopyWarning: \n",
            "A value is trying to be set on a copy of a slice from a DataFrame.\n",
            "Try using .loc[row_indexer,col_indexer] = value instead\n",
            "\n",
            "See the caveats in the documentation: https://pandas.pydata.org/pandas-docs/stable/user_guide/indexing.html#returning-a-view-versus-a-copy\n",
            "  all_data['Quantity Ordered']=all_data['Quantity Ordered'].astype('int')\n"
          ]
        }
      ]
    },
    {
      "cell_type": "code",
      "metadata": {
        "id": "w8fI4zqA4PjU",
        "outputId": "73b447af-8ffb-49a3-a93c-1b37cc370d23"
      },
      "source": [
        "#Ajouter la colonne des chiffres  d'affaires \n",
        "all_data['Sales']=all_data['Quantity Ordered']*all_data['Price Each']"
      ],
      "execution_count": null,
      "outputs": [
        {
          "name": "stderr",
          "output_type": "stream",
          "text": [
            "<ipython-input-57-5c013f4b655c>:2: SettingWithCopyWarning: \n",
            "A value is trying to be set on a copy of a slice from a DataFrame.\n",
            "Try using .loc[row_indexer,col_indexer] = value instead\n",
            "\n",
            "See the caveats in the documentation: https://pandas.pydata.org/pandas-docs/stable/user_guide/indexing.html#returning-a-view-versus-a-copy\n",
            "  all_data['Sales']=all_data['Quantity Ordered']*all_data['Price Each']\n"
          ]
        }
      ]
    },
    {
      "cell_type": "code",
      "metadata": {
        "id": "oc_cHPAN4PjV",
        "outputId": "72681bc0-e623-427f-d8d0-206f0d01571c"
      },
      "source": [
        "all_data"
      ],
      "execution_count": null,
      "outputs": [
        {
          "data": {
            "text/html": [
              "<div>\n",
              "<style scoped>\n",
              "    .dataframe tbody tr th:only-of-type {\n",
              "        vertical-align: middle;\n",
              "    }\n",
              "\n",
              "    .dataframe tbody tr th {\n",
              "        vertical-align: top;\n",
              "    }\n",
              "\n",
              "    .dataframe thead th {\n",
              "        text-align: right;\n",
              "    }\n",
              "</style>\n",
              "<table border=\"1\" class=\"dataframe\">\n",
              "  <thead>\n",
              "    <tr style=\"text-align: right;\">\n",
              "      <th></th>\n",
              "      <th>Order ID</th>\n",
              "      <th>Product</th>\n",
              "      <th>Quantity Ordered</th>\n",
              "      <th>Price Each</th>\n",
              "      <th>Order Date</th>\n",
              "      <th>Purchase Address</th>\n",
              "      <th>Month</th>\n",
              "      <th>Sales</th>\n",
              "    </tr>\n",
              "  </thead>\n",
              "  <tbody>\n",
              "    <tr>\n",
              "      <th>0</th>\n",
              "      <td>176558</td>\n",
              "      <td>USB-C Charging Cable</td>\n",
              "      <td>2</td>\n",
              "      <td>11.95</td>\n",
              "      <td>04/19/19 08:46</td>\n",
              "      <td>917 1st St, Dallas, TX 75001</td>\n",
              "      <td>4</td>\n",
              "      <td>23.90</td>\n",
              "    </tr>\n",
              "    <tr>\n",
              "      <th>2</th>\n",
              "      <td>176559</td>\n",
              "      <td>Bose SoundSport Headphones</td>\n",
              "      <td>1</td>\n",
              "      <td>99.99</td>\n",
              "      <td>04/07/19 22:30</td>\n",
              "      <td>682 Chestnut St, Boston, MA 02215</td>\n",
              "      <td>4</td>\n",
              "      <td>99.99</td>\n",
              "    </tr>\n",
              "    <tr>\n",
              "      <th>3</th>\n",
              "      <td>176560</td>\n",
              "      <td>Google Phone</td>\n",
              "      <td>1</td>\n",
              "      <td>600.00</td>\n",
              "      <td>04/12/19 14:38</td>\n",
              "      <td>669 Spruce St, Los Angeles, CA 90001</td>\n",
              "      <td>4</td>\n",
              "      <td>600.00</td>\n",
              "    </tr>\n",
              "    <tr>\n",
              "      <th>4</th>\n",
              "      <td>176560</td>\n",
              "      <td>Wired Headphones</td>\n",
              "      <td>1</td>\n",
              "      <td>11.99</td>\n",
              "      <td>04/12/19 14:38</td>\n",
              "      <td>669 Spruce St, Los Angeles, CA 90001</td>\n",
              "      <td>4</td>\n",
              "      <td>11.99</td>\n",
              "    </tr>\n",
              "    <tr>\n",
              "      <th>5</th>\n",
              "      <td>176561</td>\n",
              "      <td>Wired Headphones</td>\n",
              "      <td>1</td>\n",
              "      <td>11.99</td>\n",
              "      <td>04/30/19 09:27</td>\n",
              "      <td>333 8th St, Los Angeles, CA 90001</td>\n",
              "      <td>4</td>\n",
              "      <td>11.99</td>\n",
              "    </tr>\n",
              "    <tr>\n",
              "      <th>...</th>\n",
              "      <td>...</td>\n",
              "      <td>...</td>\n",
              "      <td>...</td>\n",
              "      <td>...</td>\n",
              "      <td>...</td>\n",
              "      <td>...</td>\n",
              "      <td>...</td>\n",
              "      <td>...</td>\n",
              "    </tr>\n",
              "    <tr>\n",
              "      <th>11681</th>\n",
              "      <td>259353</td>\n",
              "      <td>AAA Batteries (4-pack)</td>\n",
              "      <td>3</td>\n",
              "      <td>2.99</td>\n",
              "      <td>09/17/19 20:56</td>\n",
              "      <td>840 Highland St, Los Angeles, CA 90001</td>\n",
              "      <td>9</td>\n",
              "      <td>8.97</td>\n",
              "    </tr>\n",
              "    <tr>\n",
              "      <th>11682</th>\n",
              "      <td>259354</td>\n",
              "      <td>iPhone</td>\n",
              "      <td>1</td>\n",
              "      <td>700.00</td>\n",
              "      <td>09/01/19 16:00</td>\n",
              "      <td>216 Dogwood St, San Francisco, CA 94016</td>\n",
              "      <td>9</td>\n",
              "      <td>700.00</td>\n",
              "    </tr>\n",
              "    <tr>\n",
              "      <th>11683</th>\n",
              "      <td>259355</td>\n",
              "      <td>iPhone</td>\n",
              "      <td>1</td>\n",
              "      <td>700.00</td>\n",
              "      <td>09/23/19 07:39</td>\n",
              "      <td>220 12th St, San Francisco, CA 94016</td>\n",
              "      <td>9</td>\n",
              "      <td>700.00</td>\n",
              "    </tr>\n",
              "    <tr>\n",
              "      <th>11684</th>\n",
              "      <td>259356</td>\n",
              "      <td>34in Ultrawide Monitor</td>\n",
              "      <td>1</td>\n",
              "      <td>379.99</td>\n",
              "      <td>09/19/19 17:30</td>\n",
              "      <td>511 Forest St, San Francisco, CA 94016</td>\n",
              "      <td>9</td>\n",
              "      <td>379.99</td>\n",
              "    </tr>\n",
              "    <tr>\n",
              "      <th>11685</th>\n",
              "      <td>259357</td>\n",
              "      <td>USB-C Charging Cable</td>\n",
              "      <td>1</td>\n",
              "      <td>11.95</td>\n",
              "      <td>09/30/19 00:18</td>\n",
              "      <td>250 Meadow St, San Francisco, CA 94016</td>\n",
              "      <td>9</td>\n",
              "      <td>11.95</td>\n",
              "    </tr>\n",
              "  </tbody>\n",
              "</table>\n",
              "<p>185950 rows × 8 columns</p>\n",
              "</div>"
            ],
            "text/plain": [
              "      Order ID                     Product  Quantity Ordered  Price Each  \\\n",
              "0       176558        USB-C Charging Cable                 2       11.95   \n",
              "2       176559  Bose SoundSport Headphones                 1       99.99   \n",
              "3       176560                Google Phone                 1      600.00   \n",
              "4       176560            Wired Headphones                 1       11.99   \n",
              "5       176561            Wired Headphones                 1       11.99   \n",
              "...        ...                         ...               ...         ...   \n",
              "11681   259353      AAA Batteries (4-pack)                 3        2.99   \n",
              "11682   259354                      iPhone                 1      700.00   \n",
              "11683   259355                      iPhone                 1      700.00   \n",
              "11684   259356      34in Ultrawide Monitor                 1      379.99   \n",
              "11685   259357        USB-C Charging Cable                 1       11.95   \n",
              "\n",
              "           Order Date                         Purchase Address  Month   Sales  \n",
              "0      04/19/19 08:46             917 1st St, Dallas, TX 75001      4   23.90  \n",
              "2      04/07/19 22:30        682 Chestnut St, Boston, MA 02215      4   99.99  \n",
              "3      04/12/19 14:38     669 Spruce St, Los Angeles, CA 90001      4  600.00  \n",
              "4      04/12/19 14:38     669 Spruce St, Los Angeles, CA 90001      4   11.99  \n",
              "5      04/30/19 09:27        333 8th St, Los Angeles, CA 90001      4   11.99  \n",
              "...               ...                                      ...    ...     ...  \n",
              "11681  09/17/19 20:56   840 Highland St, Los Angeles, CA 90001      9    8.97  \n",
              "11682  09/01/19 16:00  216 Dogwood St, San Francisco, CA 94016      9  700.00  \n",
              "11683  09/23/19 07:39     220 12th St, San Francisco, CA 94016      9  700.00  \n",
              "11684  09/19/19 17:30   511 Forest St, San Francisco, CA 94016      9  379.99  \n",
              "11685  09/30/19 00:18   250 Meadow St, San Francisco, CA 94016      9   11.95  \n",
              "\n",
              "[185950 rows x 8 columns]"
            ]
          },
          "execution_count": 59,
          "metadata": {},
          "output_type": "execute_result"
        }
      ]
    },
    {
      "cell_type": "code",
      "metadata": {
        "id": "FmI9bbTn4PjV",
        "outputId": "b59e145c-257a-4d72-f721-0f08de426a4d"
      },
      "source": [
        "all_data.groupby('Month')['Sales'].sum()"
      ],
      "execution_count": null,
      "outputs": [
        {
          "data": {
            "text/plain": [
              "Month\n",
              "1     1.822257e+06\n",
              "2     2.202022e+06\n",
              "3     2.807100e+06\n",
              "4     3.390670e+06\n",
              "5     3.152607e+06\n",
              "6     2.577802e+06\n",
              "7     2.647776e+06\n",
              "8     2.244468e+06\n",
              "9     2.097560e+06\n",
              "10    3.736727e+06\n",
              "11    3.199603e+06\n",
              "12    4.613443e+06\n",
              "Name: Sales, dtype: float64"
            ]
          },
          "execution_count": 60,
          "metadata": {},
          "output_type": "execute_result"
        }
      ]
    },
    {
      "cell_type": "code",
      "metadata": {
        "id": "iy29fjXP4PjW",
        "outputId": "c3eb111e-35ed-4c0c-955b-bbbf91a86587"
      },
      "source": [
        "months =range(1,13)\n",
        "plt.bar(months,all_data.groupby('Month')['Sales'].sum())\n",
        "plt.xticks(months)\n",
        "plt.ylabel('Sales in USD')\n",
        "plt.xlabel('Month number')"
      ],
      "execution_count": null,
      "outputs": [
        {
          "data": {
            "text/plain": [
              "Text(0.5, 0, 'Month number')"
            ]
          },
          "execution_count": 68,
          "metadata": {},
          "output_type": "execute_result"
        },
        {
          "data": {
            "image/png": "[encoded data removed]",
            "text/plain": [
              "<Figure size 432x288 with 1 Axes>"
            ]
          },
          "metadata": {
            "needs_background": "light"
          },
          "output_type": "display_data"
        }
      ]
    },
    {
      "cell_type": "markdown",
      "metadata": {
        "id": "pnU49Ps24PjW"
      },
      "source": [
        "# La ville qui a réalisé le plus grand nombre des commandes?"
      ]
    },
    {
      "cell_type": "code",
      "metadata": {
        "id": "2zBiQUm84PjX"
      },
      "source": [
        "def city(x):\n",
        "    return  x.split(',')[1]"
      ],
      "execution_count": null,
      "outputs": []
    },
    {
      "cell_type": "code",
      "metadata": {
        "id": "JbaBZEcA4PjX",
        "outputId": "f3e78989-13b3-414f-ec28-cd746197f7c9"
      },
      "source": [
        "all_data['City']= all_data['Purchase Address'].apply(city)"
      ],
      "execution_count": null,
      "outputs": [
        {
          "name": "stderr",
          "output_type": "stream",
          "text": [
            "<ipython-input-71-a6a663f5b85a>:1: SettingWithCopyWarning: \n",
            "A value is trying to be set on a copy of a slice from a DataFrame.\n",
            "Try using .loc[row_indexer,col_indexer] = value instead\n",
            "\n",
            "See the caveats in the documentation: https://pandas.pydata.org/pandas-docs/stable/user_guide/indexing.html#returning-a-view-versus-a-copy\n",
            "  all_data['City']= all_data['Purchase Address'].apply(city)\n"
          ]
        }
      ]
    },
    {
      "cell_type": "code",
      "metadata": {
        "id": "mMqUWSMD4PjX",
        "outputId": "fb274faa-fc73-4fa8-c709-79b008f2dac3"
      },
      "source": [
        "all_data"
      ],
      "execution_count": null,
      "outputs": [
        {
          "data": {
            "text/html": [
              "<div>\n",
              "<style scoped>\n",
              "    .dataframe tbody tr th:only-of-type {\n",
              "        vertical-align: middle;\n",
              "    }\n",
              "\n",
              "    .dataframe tbody tr th {\n",
              "        vertical-align: top;\n",
              "    }\n",
              "\n",
              "    .dataframe thead th {\n",
              "        text-align: right;\n",
              "    }\n",
              "</style>\n",
              "<table border=\"1\" class=\"dataframe\">\n",
              "  <thead>\n",
              "    <tr style=\"text-align: right;\">\n",
              "      <th></th>\n",
              "      <th>Order ID</th>\n",
              "      <th>Product</th>\n",
              "      <th>Quantity Ordered</th>\n",
              "      <th>Price Each</th>\n",
              "      <th>Order Date</th>\n",
              "      <th>Purchase Address</th>\n",
              "      <th>Month</th>\n",
              "      <th>Sales</th>\n",
              "      <th>City</th>\n",
              "    </tr>\n",
              "  </thead>\n",
              "  <tbody>\n",
              "    <tr>\n",
              "      <th>0</th>\n",
              "      <td>176558</td>\n",
              "      <td>USB-C Charging Cable</td>\n",
              "      <td>2</td>\n",
              "      <td>11.95</td>\n",
              "      <td>04/19/19 08:46</td>\n",
              "      <td>917 1st St, Dallas, TX 75001</td>\n",
              "      <td>4</td>\n",
              "      <td>23.90</td>\n",
              "      <td>Dallas</td>\n",
              "    </tr>\n",
              "    <tr>\n",
              "      <th>2</th>\n",
              "      <td>176559</td>\n",
              "      <td>Bose SoundSport Headphones</td>\n",
              "      <td>1</td>\n",
              "      <td>99.99</td>\n",
              "      <td>04/07/19 22:30</td>\n",
              "      <td>682 Chestnut St, Boston, MA 02215</td>\n",
              "      <td>4</td>\n",
              "      <td>99.99</td>\n",
              "      <td>Boston</td>\n",
              "    </tr>\n",
              "    <tr>\n",
              "      <th>3</th>\n",
              "      <td>176560</td>\n",
              "      <td>Google Phone</td>\n",
              "      <td>1</td>\n",
              "      <td>600.00</td>\n",
              "      <td>04/12/19 14:38</td>\n",
              "      <td>669 Spruce St, Los Angeles, CA 90001</td>\n",
              "      <td>4</td>\n",
              "      <td>600.00</td>\n",
              "      <td>Los Angeles</td>\n",
              "    </tr>\n",
              "    <tr>\n",
              "      <th>4</th>\n",
              "      <td>176560</td>\n",
              "      <td>Wired Headphones</td>\n",
              "      <td>1</td>\n",
              "      <td>11.99</td>\n",
              "      <td>04/12/19 14:38</td>\n",
              "      <td>669 Spruce St, Los Angeles, CA 90001</td>\n",
              "      <td>4</td>\n",
              "      <td>11.99</td>\n",
              "      <td>Los Angeles</td>\n",
              "    </tr>\n",
              "    <tr>\n",
              "      <th>5</th>\n",
              "      <td>176561</td>\n",
              "      <td>Wired Headphones</td>\n",
              "      <td>1</td>\n",
              "      <td>11.99</td>\n",
              "      <td>04/30/19 09:27</td>\n",
              "      <td>333 8th St, Los Angeles, CA 90001</td>\n",
              "      <td>4</td>\n",
              "      <td>11.99</td>\n",
              "      <td>Los Angeles</td>\n",
              "    </tr>\n",
              "    <tr>\n",
              "      <th>...</th>\n",
              "      <td>...</td>\n",
              "      <td>...</td>\n",
              "      <td>...</td>\n",
              "      <td>...</td>\n",
              "      <td>...</td>\n",
              "      <td>...</td>\n",
              "      <td>...</td>\n",
              "      <td>...</td>\n",
              "      <td>...</td>\n",
              "    </tr>\n",
              "    <tr>\n",
              "      <th>11681</th>\n",
              "      <td>259353</td>\n",
              "      <td>AAA Batteries (4-pack)</td>\n",
              "      <td>3</td>\n",
              "      <td>2.99</td>\n",
              "      <td>09/17/19 20:56</td>\n",
              "      <td>840 Highland St, Los Angeles, CA 90001</td>\n",
              "      <td>9</td>\n",
              "      <td>8.97</td>\n",
              "      <td>Los Angeles</td>\n",
              "    </tr>\n",
              "    <tr>\n",
              "      <th>11682</th>\n",
              "      <td>259354</td>\n",
              "      <td>iPhone</td>\n",
              "      <td>1</td>\n",
              "      <td>700.00</td>\n",
              "      <td>09/01/19 16:00</td>\n",
              "      <td>216 Dogwood St, San Francisco, CA 94016</td>\n",
              "      <td>9</td>\n",
              "      <td>700.00</td>\n",
              "      <td>San Francisco</td>\n",
              "    </tr>\n",
              "    <tr>\n",
              "      <th>11683</th>\n",
              "      <td>259355</td>\n",
              "      <td>iPhone</td>\n",
              "      <td>1</td>\n",
              "      <td>700.00</td>\n",
              "      <td>09/23/19 07:39</td>\n",
              "      <td>220 12th St, San Francisco, CA 94016</td>\n",
              "      <td>9</td>\n",
              "      <td>700.00</td>\n",
              "      <td>San Francisco</td>\n",
              "    </tr>\n",
              "    <tr>\n",
              "      <th>11684</th>\n",
              "      <td>259356</td>\n",
              "      <td>34in Ultrawide Monitor</td>\n",
              "      <td>1</td>\n",
              "      <td>379.99</td>\n",
              "      <td>09/19/19 17:30</td>\n",
              "      <td>511 Forest St, San Francisco, CA 94016</td>\n",
              "      <td>9</td>\n",
              "      <td>379.99</td>\n",
              "      <td>San Francisco</td>\n",
              "    </tr>\n",
              "    <tr>\n",
              "      <th>11685</th>\n",
              "      <td>259357</td>\n",
              "      <td>USB-C Charging Cable</td>\n",
              "      <td>1</td>\n",
              "      <td>11.95</td>\n",
              "      <td>09/30/19 00:18</td>\n",
              "      <td>250 Meadow St, San Francisco, CA 94016</td>\n",
              "      <td>9</td>\n",
              "      <td>11.95</td>\n",
              "      <td>San Francisco</td>\n",
              "    </tr>\n",
              "  </tbody>\n",
              "</table>\n",
              "<p>185950 rows × 9 columns</p>\n",
              "</div>"
            ],
            "text/plain": [
              "      Order ID                     Product  Quantity Ordered  Price Each  \\\n",
              "0       176558        USB-C Charging Cable                 2       11.95   \n",
              "2       176559  Bose SoundSport Headphones                 1       99.99   \n",
              "3       176560                Google Phone                 1      600.00   \n",
              "4       176560            Wired Headphones                 1       11.99   \n",
              "5       176561            Wired Headphones                 1       11.99   \n",
              "...        ...                         ...               ...         ...   \n",
              "11681   259353      AAA Batteries (4-pack)                 3        2.99   \n",
              "11682   259354                      iPhone                 1      700.00   \n",
              "11683   259355                      iPhone                 1      700.00   \n",
              "11684   259356      34in Ultrawide Monitor                 1      379.99   \n",
              "11685   259357        USB-C Charging Cable                 1       11.95   \n",
              "\n",
              "           Order Date                         Purchase Address  Month   Sales  \\\n",
              "0      04/19/19 08:46             917 1st St, Dallas, TX 75001      4   23.90   \n",
              "2      04/07/19 22:30        682 Chestnut St, Boston, MA 02215      4   99.99   \n",
              "3      04/12/19 14:38     669 Spruce St, Los Angeles, CA 90001      4  600.00   \n",
              "4      04/12/19 14:38     669 Spruce St, Los Angeles, CA 90001      4   11.99   \n",
              "5      04/30/19 09:27        333 8th St, Los Angeles, CA 90001      4   11.99   \n",
              "...               ...                                      ...    ...     ...   \n",
              "11681  09/17/19 20:56   840 Highland St, Los Angeles, CA 90001      9    8.97   \n",
              "11682  09/01/19 16:00  216 Dogwood St, San Francisco, CA 94016      9  700.00   \n",
              "11683  09/23/19 07:39     220 12th St, San Francisco, CA 94016      9  700.00   \n",
              "11684  09/19/19 17:30   511 Forest St, San Francisco, CA 94016      9  379.99   \n",
              "11685  09/30/19 00:18   250 Meadow St, San Francisco, CA 94016      9   11.95   \n",
              "\n",
              "                 City  \n",
              "0              Dallas  \n",
              "2              Boston  \n",
              "3         Los Angeles  \n",
              "4         Los Angeles  \n",
              "5         Los Angeles  \n",
              "...               ...  \n",
              "11681     Los Angeles  \n",
              "11682   San Francisco  \n",
              "11683   San Francisco  \n",
              "11684   San Francisco  \n",
              "11685   San Francisco  \n",
              "\n",
              "[185950 rows x 9 columns]"
            ]
          },
          "execution_count": 72,
          "metadata": {},
          "output_type": "execute_result"
        }
      ]
    },
    {
      "cell_type": "code",
      "metadata": {
        "id": "eGhjige_4PjY",
        "outputId": "db0d1890-5dde-4a7b-bad5-60594dd1ecb2"
      },
      "source": [
        "all_data.groupby('City')['City'].count()"
      ],
      "execution_count": null,
      "outputs": [
        {
          "data": {
            "text/plain": [
              "City\n",
              " Atlanta          14881\n",
              " Austin            9905\n",
              " Boston           19934\n",
              " Dallas           14820\n",
              " Los Angeles      29605\n",
              " New York City    24876\n",
              " Portland         12465\n",
              " San Francisco    44732\n",
              " Seattle          14732\n",
              "Name: City, dtype: int64"
            ]
          },
          "execution_count": 82,
          "metadata": {},
          "output_type": "execute_result"
        }
      ]
    },
    {
      "cell_type": "code",
      "metadata": {
        "id": "IcQrNFlX4PjY",
        "outputId": "648f96aa-4d66-4bb5-8a13-12253e04ec2e"
      },
      "source": [
        "plt.bar(all_data.groupby('City')['City'].count().index,all_data.groupby('City')['City'].count().values)\n",
        "plt.xticks(rotation='vertical')\n",
        "plt.xlabel('les villes')\n",
        "plt.ylabel('le nombre des commandes')\n"
      ],
      "execution_count": null,
      "outputs": [
        {
          "data": {
            "text/plain": [
              "Text(0, 0.5, 'le nombre des commandes')"
            ]
          },
          "execution_count": 85,
          "metadata": {},
          "output_type": "execute_result"
        },
        {
          "data": {
            "image/png": "[encoded data removed]",
            "text/plain": [
              "<Figure size 432x288 with 1 Axes>"
            ]
          },
          "metadata": {
            "needs_background": "light"
          },
          "output_type": "display_data"
        }
      ]
    },
    {
      "cell_type": "markdown",
      "metadata": {
        "id": "C8ptz5NF4PjZ"
      },
      "source": [
        "# En quel moment doit on faire une compagne publicitaire pour avoir plus de ventes?"
      ]
    },
    {
      "cell_type": "code",
      "metadata": {
        "id": "9Fp7eNN84PjZ",
        "outputId": "03424e6b-c59b-44e5-9fdc-a3399838c1b8"
      },
      "source": [
        "all_data['Hour']= pd.to_datetime(all_data['Order Date']).dt.hour"
      ],
      "execution_count": null,
      "outputs": [
        {
          "name": "stderr",
          "output_type": "stream",
          "text": [
            "<ipython-input-87-305d464ea2f0>:1: SettingWithCopyWarning: \n",
            "A value is trying to be set on a copy of a slice from a DataFrame.\n",
            "Try using .loc[row_indexer,col_indexer] = value instead\n",
            "\n",
            "See the caveats in the documentation: https://pandas.pydata.org/pandas-docs/stable/user_guide/indexing.html#returning-a-view-versus-a-copy\n",
            "  all_data['Hour']= pd.to_datetime(all_data['Order Date']).dt.hour\n"
          ]
        }
      ]
    },
    {
      "cell_type": "code",
      "metadata": {
        "id": "CLa8lhV24PjZ",
        "outputId": "83281237-0dd6-4ea7-e71b-e513339f13ce"
      },
      "source": [
        ""
      ],
      "execution_count": null,
      "outputs": [
        {
          "data": {
            "text/html": [
              "<div>\n",
              "<style scoped>\n",
              "    .dataframe tbody tr th:only-of-type {\n",
              "        vertical-align: middle;\n",
              "    }\n",
              "\n",
              "    .dataframe tbody tr th {\n",
              "        vertical-align: top;\n",
              "    }\n",
              "\n",
              "    .dataframe thead th {\n",
              "        text-align: right;\n",
              "    }\n",
              "</style>\n",
              "<table border=\"1\" class=\"dataframe\">\n",
              "  <thead>\n",
              "    <tr style=\"text-align: right;\">\n",
              "      <th></th>\n",
              "      <th>Order ID</th>\n",
              "      <th>Product</th>\n",
              "      <th>Quantity Ordered</th>\n",
              "      <th>Price Each</th>\n",
              "      <th>Order Date</th>\n",
              "      <th>Purchase Address</th>\n",
              "      <th>Month</th>\n",
              "      <th>Sales</th>\n",
              "      <th>City</th>\n",
              "      <th>Hour</th>\n",
              "    </tr>\n",
              "  </thead>\n",
              "  <tbody>\n",
              "    <tr>\n",
              "      <th>0</th>\n",
              "      <td>176558</td>\n",
              "      <td>USB-C Charging Cable</td>\n",
              "      <td>2</td>\n",
              "      <td>11.95</td>\n",
              "      <td>04/19/19 08:46</td>\n",
              "      <td>917 1st St, Dallas, TX 75001</td>\n",
              "      <td>4</td>\n",
              "      <td>23.90</td>\n",
              "      <td>Dallas</td>\n",
              "      <td>8</td>\n",
              "    </tr>\n",
              "    <tr>\n",
              "      <th>2</th>\n",
              "      <td>176559</td>\n",
              "      <td>Bose SoundSport Headphones</td>\n",
              "      <td>1</td>\n",
              "      <td>99.99</td>\n",
              "      <td>04/07/19 22:30</td>\n",
              "      <td>682 Chestnut St, Boston, MA 02215</td>\n",
              "      <td>4</td>\n",
              "      <td>99.99</td>\n",
              "      <td>Boston</td>\n",
              "      <td>22</td>\n",
              "    </tr>\n",
              "    <tr>\n",
              "      <th>3</th>\n",
              "      <td>176560</td>\n",
              "      <td>Google Phone</td>\n",
              "      <td>1</td>\n",
              "      <td>600.00</td>\n",
              "      <td>04/12/19 14:38</td>\n",
              "      <td>669 Spruce St, Los Angeles, CA 90001</td>\n",
              "      <td>4</td>\n",
              "      <td>600.00</td>\n",
              "      <td>Los Angeles</td>\n",
              "      <td>14</td>\n",
              "    </tr>\n",
              "    <tr>\n",
              "      <th>4</th>\n",
              "      <td>176560</td>\n",
              "      <td>Wired Headphones</td>\n",
              "      <td>1</td>\n",
              "      <td>11.99</td>\n",
              "      <td>04/12/19 14:38</td>\n",
              "      <td>669 Spruce St, Los Angeles, CA 90001</td>\n",
              "      <td>4</td>\n",
              "      <td>11.99</td>\n",
              "      <td>Los Angeles</td>\n",
              "      <td>14</td>\n",
              "    </tr>\n",
              "    <tr>\n",
              "      <th>5</th>\n",
              "      <td>176561</td>\n",
              "      <td>Wired Headphones</td>\n",
              "      <td>1</td>\n",
              "      <td>11.99</td>\n",
              "      <td>04/30/19 09:27</td>\n",
              "      <td>333 8th St, Los Angeles, CA 90001</td>\n",
              "      <td>4</td>\n",
              "      <td>11.99</td>\n",
              "      <td>Los Angeles</td>\n",
              "      <td>9</td>\n",
              "    </tr>\n",
              "    <tr>\n",
              "      <th>...</th>\n",
              "      <td>...</td>\n",
              "      <td>...</td>\n",
              "      <td>...</td>\n",
              "      <td>...</td>\n",
              "      <td>...</td>\n",
              "      <td>...</td>\n",
              "      <td>...</td>\n",
              "      <td>...</td>\n",
              "      <td>...</td>\n",
              "      <td>...</td>\n",
              "    </tr>\n",
              "    <tr>\n",
              "      <th>11681</th>\n",
              "      <td>259353</td>\n",
              "      <td>AAA Batteries (4-pack)</td>\n",
              "      <td>3</td>\n",
              "      <td>2.99</td>\n",
              "      <td>09/17/19 20:56</td>\n",
              "      <td>840 Highland St, Los Angeles, CA 90001</td>\n",
              "      <td>9</td>\n",
              "      <td>8.97</td>\n",
              "      <td>Los Angeles</td>\n",
              "      <td>20</td>\n",
              "    </tr>\n",
              "    <tr>\n",
              "      <th>11682</th>\n",
              "      <td>259354</td>\n",
              "      <td>iPhone</td>\n",
              "      <td>1</td>\n",
              "      <td>700.00</td>\n",
              "      <td>09/01/19 16:00</td>\n",
              "      <td>216 Dogwood St, San Francisco, CA 94016</td>\n",
              "      <td>9</td>\n",
              "      <td>700.00</td>\n",
              "      <td>San Francisco</td>\n",
              "      <td>16</td>\n",
              "    </tr>\n",
              "    <tr>\n",
              "      <th>11683</th>\n",
              "      <td>259355</td>\n",
              "      <td>iPhone</td>\n",
              "      <td>1</td>\n",
              "      <td>700.00</td>\n",
              "      <td>09/23/19 07:39</td>\n",
              "      <td>220 12th St, San Francisco, CA 94016</td>\n",
              "      <td>9</td>\n",
              "      <td>700.00</td>\n",
              "      <td>San Francisco</td>\n",
              "      <td>7</td>\n",
              "    </tr>\n",
              "    <tr>\n",
              "      <th>11684</th>\n",
              "      <td>259356</td>\n",
              "      <td>34in Ultrawide Monitor</td>\n",
              "      <td>1</td>\n",
              "      <td>379.99</td>\n",
              "      <td>09/19/19 17:30</td>\n",
              "      <td>511 Forest St, San Francisco, CA 94016</td>\n",
              "      <td>9</td>\n",
              "      <td>379.99</td>\n",
              "      <td>San Francisco</td>\n",
              "      <td>17</td>\n",
              "    </tr>\n",
              "    <tr>\n",
              "      <th>11685</th>\n",
              "      <td>259357</td>\n",
              "      <td>USB-C Charging Cable</td>\n",
              "      <td>1</td>\n",
              "      <td>11.95</td>\n",
              "      <td>09/30/19 00:18</td>\n",
              "      <td>250 Meadow St, San Francisco, CA 94016</td>\n",
              "      <td>9</td>\n",
              "      <td>11.95</td>\n",
              "      <td>San Francisco</td>\n",
              "      <td>0</td>\n",
              "    </tr>\n",
              "  </tbody>\n",
              "</table>\n",
              "<p>185950 rows × 10 columns</p>\n",
              "</div>"
            ],
            "text/plain": [
              "      Order ID                     Product  Quantity Ordered  Price Each  \\\n",
              "0       176558        USB-C Charging Cable                 2       11.95   \n",
              "2       176559  Bose SoundSport Headphones                 1       99.99   \n",
              "3       176560                Google Phone                 1      600.00   \n",
              "4       176560            Wired Headphones                 1       11.99   \n",
              "5       176561            Wired Headphones                 1       11.99   \n",
              "...        ...                         ...               ...         ...   \n",
              "11681   259353      AAA Batteries (4-pack)                 3        2.99   \n",
              "11682   259354                      iPhone                 1      700.00   \n",
              "11683   259355                      iPhone                 1      700.00   \n",
              "11684   259356      34in Ultrawide Monitor                 1      379.99   \n",
              "11685   259357        USB-C Charging Cable                 1       11.95   \n",
              "\n",
              "           Order Date                         Purchase Address  Month   Sales  \\\n",
              "0      04/19/19 08:46             917 1st St, Dallas, TX 75001      4   23.90   \n",
              "2      04/07/19 22:30        682 Chestnut St, Boston, MA 02215      4   99.99   \n",
              "3      04/12/19 14:38     669 Spruce St, Los Angeles, CA 90001      4  600.00   \n",
              "4      04/12/19 14:38     669 Spruce St, Los Angeles, CA 90001      4   11.99   \n",
              "5      04/30/19 09:27        333 8th St, Los Angeles, CA 90001      4   11.99   \n",
              "...               ...                                      ...    ...     ...   \n",
              "11681  09/17/19 20:56   840 Highland St, Los Angeles, CA 90001      9    8.97   \n",
              "11682  09/01/19 16:00  216 Dogwood St, San Francisco, CA 94016      9  700.00   \n",
              "11683  09/23/19 07:39     220 12th St, San Francisco, CA 94016      9  700.00   \n",
              "11684  09/19/19 17:30   511 Forest St, San Francisco, CA 94016      9  379.99   \n",
              "11685  09/30/19 00:18   250 Meadow St, San Francisco, CA 94016      9   11.95   \n",
              "\n",
              "                 City  Hour  \n",
              "0              Dallas     8  \n",
              "2              Boston    22  \n",
              "3         Los Angeles    14  \n",
              "4         Los Angeles    14  \n",
              "5         Los Angeles     9  \n",
              "...               ...   ...  \n",
              "11681     Los Angeles    20  \n",
              "11682   San Francisco    16  \n",
              "11683   San Francisco     7  \n",
              "11684   San Francisco    17  \n",
              "11685   San Francisco     0  \n",
              "\n",
              "[185950 rows x 10 columns]"
            ]
          },
          "execution_count": 88,
          "metadata": {},
          "output_type": "execute_result"
        }
      ]
    },
    {
      "cell_type": "code",
      "metadata": {
        "id": "4CLHQvNY4Pja",
        "outputId": "41c0065a-7877-41e1-efb8-388cd24556f9"
      },
      "source": [
        "all_data.groupby('Hour')\n"
      ],
      "execution_count": null,
      "outputs": [
        {
          "data": {
            "text/plain": [
              "<pandas.core.groupby.generic.DataFrameGroupBy object at 0x000001E53F0A3820>"
            ]
          },
          "execution_count": 94,
          "metadata": {},
          "output_type": "execute_result"
        }
      ]
    },
    {
      "cell_type": "code",
      "metadata": {
        "id": "FsQFdT0r4Pja",
        "outputId": "1ea970d3-ebc8-4699-9b76-afd2ecee5627"
      },
      "source": [
        "keys=[]\n",
        "hours=[]\n",
        "for key,hour in all_data.groupby('Hour'):\n",
        "    keys.append(key)\n",
        "    hours.append(len(hour))\n",
        "hours\n"
      ],
      "execution_count": null,
      "outputs": [
        {
          "data": {
            "text/plain": [
              "[3910,\n",
              " 2350,\n",
              " 1243,\n",
              " 831,\n",
              " 854,\n",
              " 1321,\n",
              " 2482,\n",
              " 4011,\n",
              " 6256,\n",
              " 8748,\n",
              " 10944,\n",
              " 12411,\n",
              " 12587,\n",
              " 12129,\n",
              " 10984,\n",
              " 10175,\n",
              " 10384,\n",
              " 10899,\n",
              " 12280,\n",
              " 12905,\n",
              " 12228,\n",
              " 10921,\n",
              " 8822,\n",
              " 6275]"
            ]
          },
          "execution_count": 100,
          "metadata": {},
          "output_type": "execute_result"
        }
      ]
    },
    {
      "cell_type": "code",
      "metadata": {
        "id": "1sCrpVNq4Pjb",
        "outputId": "0dfa9e46-a578-4055-af0c-d42a7a9d8263"
      },
      "source": [
        "plt.grid()\n",
        "plt.plot(keys,hours)\n",
        "plt.xlabel('les heures')\n",
        "plt.ylabel('le nombre de commandes')"
      ],
      "execution_count": null,
      "outputs": [
        {
          "data": {
            "text/plain": [
              "Text(0, 0.5, 'le nombre de commandes')"
            ]
          },
          "execution_count": 103,
          "metadata": {},
          "output_type": "execute_result"
        },
        {
          "data": {
            "image/png": "[encoded data removed]",
            "text/plain": [
              "<Figure size 432x288 with 1 Axes>"
            ]
          },
          "metadata": {
            "needs_background": "light"
          },
          "output_type": "display_data"
        }
      ]
    },
    {
      "cell_type": "markdown",
      "metadata": {
        "id": "tYSTMQO84Pjb"
      },
      "source": [
        "# Le produit qui se vend le plus?"
      ]
    },
    {
      "cell_type": "code",
      "metadata": {
        "id": "nu7yB4ug4Pjb",
        "outputId": "cb13b434-129b-4949-f556-6d19cb23fa28"
      },
      "source": [
        "all_data.groupby('Product')['Quantity Ordered'].sum().plot(kind='bar')"
      ],
      "execution_count": null,
      "outputs": [
        {
          "data": {
            "text/plain": [
              "<AxesSubplot:xlabel='Product'>"
            ]
          },
          "execution_count": 105,
          "metadata": {},
          "output_type": "execute_result"
        },
        {
          "data": {
            "image/png": "[encoded data removed]",
            "text/plain": [
              "<Figure size 432x288 with 1 Axes>"
            ]
          },
          "metadata": {
            "needs_background": "light"
          },
          "output_type": "display_data"
        }
      ]
    },
    {
      "cell_type": "code",
      "metadata": {
        "id": "BOH7tcS24Pjc"
      },
      "source": [
        "products=all_data.groupby('Product')['Quantity Ordered'].sum().index\n",
        "quantity=all_data.groupby('Product')['Quantity Ordered'].sum()\n",
        "prices=all_data.groupby('Product')['Price Each'].mean()\n"
      ],
      "execution_count": null,
      "outputs": []
    },
    {
      "cell_type": "code",
      "metadata": {
        "id": "C_28TKh94Pjc",
        "outputId": "71736caa-8eaf-497b-8fe9-0d362a08b055"
      },
      "source": [
        "plt.figure(figsize=(40,24))\n",
        "fig,ax1=plt.subplots()\n",
        "ax2=ax1.twinx()\n",
        "ax1.bar(products,quantity,color='g')\n",
        "ax2.plot(products,prices,'b-')\n",
        "ax1.set_xticklabels(products,rotation='vertical',size=8)"
      ],
      "execution_count": null,
      "outputs": [
        {
          "name": "stderr",
          "output_type": "stream",
          "text": [
            "<ipython-input-112-263bc0ee329d>:6: UserWarning: FixedFormatter should only be used together with FixedLocator\n",
            "  ax1.set_xticklabels(products,rotation='vertical',size=8)\n"
          ]
        },
        {
          "data": {
            "text/plain": [
              "[Text(0, 0, '20in Monitor'),\n",
              " Text(1, 0, '27in 4K Gaming Monitor'),\n",
              " Text(2, 0, '27in FHD Monitor'),\n",
              " Text(3, 0, '34in Ultrawide Monitor'),\n",
              " Text(4, 0, 'AA Batteries (4-pack)'),\n",
              " Text(5, 0, 'AAA Batteries (4-pack)'),\n",
              " Text(6, 0, 'Apple Airpods Headphones'),\n",
              " Text(7, 0, 'Bose SoundSport Headphones'),\n",
              " Text(8, 0, 'Flatscreen TV'),\n",
              " Text(9, 0, 'Google Phone'),\n",
              " Text(10, 0, 'LG Dryer'),\n",
              " Text(11, 0, 'LG Washing Machine'),\n",
              " Text(12, 0, 'Lightning Charging Cable'),\n",
              " Text(13, 0, 'Macbook Pro Laptop'),\n",
              " Text(14, 0, 'ThinkPad Laptop'),\n",
              " Text(15, 0, 'USB-C Charging Cable'),\n",
              " Text(16, 0, 'Vareebadd Phone'),\n",
              " Text(17, 0, 'Wired Headphones'),\n",
              " Text(18, 0, 'iPhone')]"
            ]
          },
          "execution_count": 112,
          "metadata": {},
          "output_type": "execute_result"
        },
        {
          "data": {
            "text/plain": [
              "<Figure size 2880x1728 with 0 Axes>"
            ]
          },
          "metadata": {},
          "output_type": "display_data"
        },
        {
          "data": {
            "image/png": "[encoded data removed]",
            "text/plain": [
              "<Figure size 432x288 with 2 Axes>"
            ]
          },
          "metadata": {
            "needs_background": "light"
          },
          "output_type": "display_data"
        }
      ]
    },
    {
      "cell_type": "code",
      "metadata": {
        "id": "fY0b5Nax4Pjd"
      },
      "source": [
        ""
      ],
      "execution_count": null,
      "outputs": []
    }
  ]
}